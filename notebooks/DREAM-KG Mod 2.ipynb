{
  "nbformat": 4,
  "nbformat_minor": 0,
  "metadata": {
    "colab": {
      "provenance": [],
      "collapsed_sections": [
        "TuNUUkyjMqZz",
        "RTNt5PgwM_n6"
      ]
    },
    "kernelspec": {
      "name": "python3",
      "display_name": "Python 3"
    },
    "language_info": {
      "name": "python"
    }
  },
  "cells": [
    {
      "cell_type": "markdown",
      "source": [
        "# Dream KG - Homelessness\n"
      ],
      "metadata": {
        "id": "xujPaJI3FTnL"
      }
    },
    {
      "cell_type": "markdown",
      "source": [
        "## Setup"
      ],
      "metadata": {
        "id": "TuNUUkyjMqZz"
      }
    },
    {
      "cell_type": "code",
      "execution_count": 2,
      "metadata": {
        "colab": {
          "base_uri": "https://localhost:8080/"
        },
        "id": "8wYkGf2nXoWN",
        "outputId": "2c24293a-8ab4-4b91-dde2-9e4a97ec8115",
        "collapsed": true
      },
      "outputs": [
        {
          "output_type": "stream",
          "name": "stdout",
          "text": [
            "Collecting neo4j\n",
            "  Downloading neo4j-5.26.0-py3-none-any.whl.metadata (5.9 kB)\n",
            "Collecting pgeocode\n",
            "  Downloading pgeocode-0.5.0-py3-none-any.whl.metadata (7.9 kB)\n",
            "Requirement already satisfied: pytz in /usr/local/lib/python3.10/dist-packages (from neo4j) (2024.2)\n",
            "Requirement already satisfied: requests in /usr/local/lib/python3.10/dist-packages (from pgeocode) (2.32.3)\n",
            "Requirement already satisfied: numpy in /usr/local/lib/python3.10/dist-packages (from pgeocode) (1.26.4)\n",
            "Requirement already satisfied: pandas in /usr/local/lib/python3.10/dist-packages (from pgeocode) (2.2.2)\n",
            "Requirement already satisfied: python-dateutil>=2.8.2 in /usr/local/lib/python3.10/dist-packages (from pandas->pgeocode) (2.8.2)\n",
            "Requirement already satisfied: tzdata>=2022.7 in /usr/local/lib/python3.10/dist-packages (from pandas->pgeocode) (2024.2)\n",
            "Requirement already satisfied: charset-normalizer<4,>=2 in /usr/local/lib/python3.10/dist-packages (from requests->pgeocode) (3.4.0)\n",
            "Requirement already satisfied: idna<4,>=2.5 in /usr/local/lib/python3.10/dist-packages (from requests->pgeocode) (3.10)\n",
            "Requirement already satisfied: urllib3<3,>=1.21.1 in /usr/local/lib/python3.10/dist-packages (from requests->pgeocode) (2.2.3)\n",
            "Requirement already satisfied: certifi>=2017.4.17 in /usr/local/lib/python3.10/dist-packages (from requests->pgeocode) (2024.8.30)\n",
            "Requirement already satisfied: six>=1.5 in /usr/local/lib/python3.10/dist-packages (from python-dateutil>=2.8.2->pandas->pgeocode) (1.16.0)\n",
            "Downloading neo4j-5.26.0-py3-none-any.whl (302 kB)\n",
            "\u001b[2K   \u001b[90m━━━━━━━━━━━━━━━━━━━━━━━━━━━━━━━━━━━━━━━━\u001b[0m \u001b[32m302.0/302.0 kB\u001b[0m \u001b[31m14.5 MB/s\u001b[0m eta \u001b[36m0:00:00\u001b[0m\n",
            "\u001b[?25hDownloading pgeocode-0.5.0-py3-none-any.whl (9.8 kB)\n",
            "Installing collected packages: neo4j, pgeocode\n",
            "Successfully installed neo4j-5.26.0 pgeocode-0.5.0\n"
          ]
        }
      ],
      "source": [
        "!pip install neo4j pgeocode"
      ]
    },
    {
      "cell_type": "markdown",
      "source": [
        "## General"
      ],
      "metadata": {
        "id": "BbyPlZjCMvLe"
      }
    },
    {
      "cell_type": "code",
      "source": [
        "from functools import reduce\n",
        "from neo4j import GraphDatabase\n",
        "import pandas as pd\n",
        "import json\n",
        "import pgeocode"
      ],
      "metadata": {
        "id": "5fnF9fNPY-lW"
      },
      "execution_count": 3,
      "outputs": []
    },
    {
      "cell_type": "code",
      "source": [
        "NEO4J_URI='neo4j+s://c16e1829.databases.neo4j.io'\n",
        "NEO4J_USERNAME='neo4j'\n",
        "NEO4J_PASSWORD='EsDnKL2ZIC5O4GZlu7qJqvww3ZI_igU0PHa6calBW-k'\n",
        "AURA_INSTANCEID='c16e1829'\n",
        "AURA_INSTANCENAME='Instance01'\n",
        "default_end_date = 4102444799000"
      ],
      "metadata": {
        "id": "aFqgPnuDX-B-"
      },
      "execution_count": 4,
      "outputs": []
    },
    {
      "cell_type": "code",
      "source": [
        "driver = GraphDatabase.driver(uri = NEO4J_URI, auth = (NEO4J_USERNAME, NEO4J_PASSWORD), database = 'neo4j')"
      ],
      "metadata": {
        "id": "RZP1BHyBZBtO"
      },
      "execution_count": 5,
      "outputs": []
    },
    {
      "cell_type": "code",
      "source": [
        "def str_rem_spec_char(val: str):\n",
        "  return val.replace('(', '').replace(')', '').replace('-', '').replace(' ', '') if val and pd.notna(val)  else ''\n",
        "\n",
        "def str_strip(val):\n",
        "  return val.strip() if val and pd.notna(val)  else ''\n",
        "\n",
        "def get_node_unique_identifiers(session, node, node_type):\n",
        "  query = '''\n",
        "  MATCH (node:DREAM_KG:RESOURCE{nodeName: $node, nodeType: $node_type}) RETURN COLLECT({identifier: node.identifier, abbreviation: node.abbreviation}) AS dataList\n",
        "  '''\n",
        "  dataList = list(session.run(query, node=node, node_type=node_type))[0]['dataList']\n",
        "  if len(dataList) == 1:\n",
        "    return True, dataList[0]\n",
        "  elif len(dataList) > 1:\n",
        "    return False, dataList\n",
        "  else:\n",
        "    return False, None\n",
        "\n",
        "def get_meta(node_name: str, node_type: str, cache_dict: dict):\n",
        "  if node_name in cache_dict:\n",
        "    res = True, cache_dict[node_name]['meta']\n",
        "  else:\n",
        "    res = get_node_unique_identifiers(session, node_name.strip(), node_type)\n",
        "    if res[0]:\n",
        "      cache_dict[node_name] = dict()\n",
        "      cache_dict[node_name]['meta'] = res\n",
        "    return res"
      ],
      "metadata": {
        "id": "PMjy3QyU__Vx"
      },
      "execution_count": 8,
      "outputs": []
    },
    {
      "cell_type": "code",
      "source": [
        "create_thing_node = '''\n",
        "MERGE (t:THING{\n",
        "  nodeName: \"THING\"\n",
        "}) SET t += {\n",
        "  createdDate: datetime(),\n",
        "  createdBy: \"system\",\n",
        "  startTime: timestamp(),\n",
        "  endTime: 4102444799000,\n",
        "  nodeDesc: \"RootNode\",\n",
        "  elementType: \"class\"\n",
        "}\n",
        "RETURN COUNT(*)\n",
        "'''\n",
        "create_category_node = '''\n",
        "MERGE (t:THING{nodeName: \"THING\"})\n",
        "MERGE (n:METADATA:RESOURCE{\n",
        "  nodeName: \"DREAM_KG\",\n",
        "  identifier: \"dreamkg\",\n",
        "  abbreviation: \"dreamkg\",\n",
        "  elementType: \"class\",\n",
        "  nodeCategoryName: \"DREAM_KG\",\n",
        "  metadataType: \"nodeCategory\"\n",
        "}) SET n += {\n",
        "  startTime: timestamp(),\n",
        "  endTime: 4102444799000,\n",
        "  nodeCategory: 1,\n",
        "  createdDate: datetime(),\n",
        "  createdBy: \"system\",\n",
        "  nodeCategoryDescription: \"DREAM-KG can be used to provide precision social services and resources available for people\n",
        "experiencing homelessness (PEH), including emergency shelters, transitional housing, permanent\n",
        "supportive housing, food assistance programs, healthcare services, employment and job training, legal\n",
        "assistance, and substance abuse and mental health services.\"\n",
        "}\n",
        "MERGE (t)-[r:hasSubClass]->(n) SET r += {\n",
        "  startTime: timestamp(),\n",
        "  endTime: 4102444799000,\n",
        "  createdBy: \"system\"\n",
        "}\n",
        "RETURN COUNT(*)\n",
        "'''\n",
        "def node_upsert(**kwargs):\n",
        "  if not kwargs.get('subClass', False):\n",
        "    label = ':DREAM_KG:RESOURCE'\n",
        "    subclass = ':METADATA:RESOURCE{nodeTypeName: data.nodeType, metadataType: \"nodeType\"}'\n",
        "    rel = 'hasInstance'\n",
        "  else:\n",
        "    label = ':METADATA:RESOURCE'\n",
        "    subclass = ':METADATA:RESOURCE{nodeCategoryName: \"DREAM_KG\", metadataType: \"nodeCategory\"}'\n",
        "    rel = 'hasSubClass'\n",
        "\n",
        "  query = '''\n",
        "  WITH $data AS data, {\n",
        "    createdDate: timestamp(),\n",
        "    startTime: timestamp(),\n",
        "    endTime: 4102444799000,\n",
        "    status: \"Confirmed\"\n",
        "  } AS enrichData\n",
        "  MATCH (nodeClass%s)'''\n",
        "  if 'parent' in kwargs:\n",
        "    query += ('''\n",
        "    MATCH (parent:DREAM_KG:RESOURCE{identifier: \"%s\", abbreviation: \"%s\"})\n",
        "    ''' % (kwargs['parent']['identifier'], kwargs['parent']['abbreviation']))\n",
        "  query += '''\n",
        "  MERGE (node%s{identifier: nodeClass.identifier + '.' + TOLOWER(apoc.text.regreplace(data.nodeName, '[^a-zA-Z0-9]', '')),'''\n",
        "  query += ('''\n",
        "                abbreviation: %s + TOLOWER(apoc.text.regreplace(data.nodeName, '[^a-zA-Z0-9]', ''))})\n",
        "  ''' % ('COALESCE(parent.abbreviation, nodeClass.abbreviation)' + '+ \\'.\\'' if 'parent' in kwargs else '\\'dreamkg.\\''))\n",
        "  query += '''\n",
        "  ON CREATE\n",
        "    SET node.operation = 'new_node'\n",
        "  ON MATCH\n",
        "    SET node.operation = 'update_node'\n",
        "  SET node += enrichData\n",
        "  SET node += data\n",
        "  MERGE (node)-[:_properties{audit: true}]->(audit:AUDIT)\n",
        "  CREATE (audit)-[:_time_properties]->(spoke:SPOKE) SET spoke += PROPERTIES(node)\n",
        "  MERGE (node)<-[r:%s]-(nodeClass) ON CREATE SET r += enrichData\n",
        "  '''\n",
        "  if 'parent' in kwargs:\n",
        "    query += '''\n",
        "    MERGE (parent)-[pr:hasChild]->(node) ON CREATE SET pr += enrichData\n",
        "    '''\n",
        "  query += '''\n",
        "  RETURN DISTINCT node\n",
        "  '''\n",
        "  query = query % (subclass, label, rel)\n",
        "  return query\n",
        "\n",
        "\n",
        "def business_rel_upsert(parent, rel, child):\n",
        "  return '''WITH $data AS data, {\n",
        "    createdDate: timestamp(),\n",
        "    startTime: timestamp(),\n",
        "    endTime: 4102444799000,\n",
        "    status: \"Confirmed\"\n",
        "  } AS enrichData\n",
        "  MATCH (parent:DREAM_KG:RESOURCE{identifier: \"%s\", abbreviation: \"%s\"})\n",
        "  MATCH (child:DREAM_KG:RESOURCE{identifier: \"%s\", abbreviation: \"%s\"})\n",
        "  MERGE (parent)-[rel:%s]->(child)\n",
        "  SET rel += enrichData SET rel += data\n",
        "  RETURN COUNT(*)\n",
        "  ''' % (parent['identifier'], parent['abbreviation'], child['identifier'], child['abbreviation'], rel)"
      ],
      "metadata": {
        "collapsed": true,
        "id": "ASS9QZWyZUD7"
      },
      "execution_count": 9,
      "outputs": []
    },
    {
      "cell_type": "markdown",
      "source": [
        "### Root Node Creation"
      ],
      "metadata": {
        "id": "iFyzfwsmM7lK"
      }
    },
    {
      "cell_type": "code",
      "source": [
        "def transaction_call(tx, query):\n",
        "    result = tx.run(query)\n",
        "with driver.session() as session:\n",
        "  session.execute_write(transaction_call, create_thing_node)\n",
        "  session.execute_write(transaction_call, create_category_node)"
      ],
      "metadata": {
        "id": "snMWTNfvZUEB"
      },
      "execution_count": 7,
      "outputs": []
    },
    {
      "cell_type": "markdown",
      "source": [
        "### Node Types Creation"
      ],
      "metadata": {
        "id": "RTNt5PgwM_n6"
      }
    },
    {
      "cell_type": "code",
      "source": [
        "# Node Type Creation\n",
        "with driver.session() as session:\n",
        "  session.run(node_upsert(subClass=True),\n",
        "                          data={\"nodeName\": \"Amenity\",\n",
        "                                \"isRootNodeType\": True,\n",
        "                                \"elementType\": \"class\",\n",
        "                                \"nodeTypeName\": \"Amenity\",\n",
        "                                \"nodeCategory\": \"DREAM_KG\",\n",
        "                                \"metadataType\": \"nodeType\",\n",
        "                                \"parentNodeType\": \"Amenity\",\n",
        "                                \"childNodeType\": \"Amenity\"})\n",
        "  session.run(node_upsert(subClass=True),\n",
        "                          data={\"nodeName\": \"Organization\",\n",
        "                                \"isRootNodeType\": True,\n",
        "                                \"elementType\": \"class\",\n",
        "                                \"nodeTypeName\": \"Organization\",\n",
        "                                \"nodeCategory\": \"DREAM_KG\",\n",
        "                                \"metadataType\": \"nodeType\",\n",
        "                                \"parentNodeType\": \"\",\n",
        "                                \"childNodeType\": \"ProgramOrFacility\"})\n",
        "  session.run(node_upsert(subClass=True),\n",
        "                          data={\"nodeName\": \"ProgramOrFacility\",\n",
        "                                \"elementType\": \"class\",\n",
        "                                \"nodeTypeName\": \"ProgramOrFacility\",\n",
        "                                \"nodeCategory\": \"DREAM_KG\",\n",
        "                                \"metadataType\": \"nodeType\",\n",
        "                                \"parentNodeType\": \"Organization\",\n",
        "                                \"childNodeType\": \"Service\"})\n",
        "  session.run(node_upsert(subClass=True),\n",
        "                          data={\"nodeName\": \"Service\",\n",
        "                                \"elementType\": \"class\",\n",
        "                                \"nodeTypeName\": \"Service\",\n",
        "                                \"nodeCategory\": \"DREAM_KG\",\n",
        "                                \"metadataType\": \"nodeType\",\n",
        "                                \"parentNodeType\": \"Service\",\n",
        "                                \"childNodeType\": \"\"})\n",
        "  session.run(node_upsert(subClass=True),\n",
        "                          data={\"nodeName\": \"Neighborhood\",\n",
        "                                \"isRootNodeType\": True,\n",
        "                                \"elementType\": \"class\",\n",
        "                                \"nodeTypeName\": \"Neighborhood\",\n",
        "                                \"nodeCategory\": \"DREAM_KG\",\n",
        "                                \"metadataType\": \"nodeType\",\n",
        "                                \"parentNodeType\": \"Neighborhood\",\n",
        "                                \"childNodeType\": \"Neighborhood\"})\n",
        "  session.run(node_upsert(subClass=True),\n",
        "                          data={\"nodeName\": \"Location\",\n",
        "                                \"isRootNodeType\": True,\n",
        "                                \"elementType\": \"class\",\n",
        "                                \"nodeTypeName\": \"Location\",\n",
        "                                \"nodeCategory\": \"DREAM_KG\",\n",
        "                                \"metadataType\": \"nodeType\",\n",
        "                                \"parentNodeType\": \"Location\",\n",
        "                                \"childNodeType\": \"Location\"})"
      ],
      "metadata": {
        "id": "-JFl5BHdqrOc",
        "collapsed": true
      },
      "execution_count": 8,
      "outputs": []
    },
    {
      "cell_type": "code",
      "source": [
        "ORG_NODE_TYPE = 'Organization'\n",
        "CAT_NODE_TYPE = 'Amenities'\n",
        "NH_NODE_TYPE = 'Neighborhood'\n",
        "LOC_NODE_TYPE = 'Location'\n",
        "\n",
        "root_cache_dict = dict()\n",
        "root_cache_dict[ORG_NODE_TYPE] = dict()\n",
        "root_cache_dict[CAT_NODE_TYPE] = dict()\n",
        "root_cache_dict[NH_NODE_TYPE] = dict()\n",
        "root_cache_dict[LOC_NODE_TYPE] = dict()\n",
        "\n",
        "org_dict = root_cache_dict[ORG_NODE_TYPE]\n",
        "cat_dict = root_cache_dict[CAT_NODE_TYPE]\n",
        "nh_dict = root_cache_dict[NH_NODE_TYPE]\n",
        "loc_dict = root_cache_dict[LOC_NODE_TYPE]"
      ],
      "metadata": {
        "id": "AYCM4A1cHFim"
      },
      "execution_count": 9,
      "outputs": []
    },
    {
      "cell_type": "markdown",
      "source": [
        "## Sheet 1 - 5a05b9ec-2fbf-43f2-bfff-1de2555ff7d4"
      ],
      "metadata": {
        "id": "QZdzMdfJC8w9"
      }
    },
    {
      "cell_type": "code",
      "source": [
        "SRC_SHEET = 'dataset/transformed/5a05b9ec-2fbf-43f2-bfff-1de2555ff7d4.xlsx'\n",
        "df = pd.read_excel(SRC_SHEET, header=0, skiprows=[0])"
      ],
      "metadata": {
        "id": "xK05k6NH-o4R"
      },
      "execution_count": 10,
      "outputs": []
    },
    {
      "cell_type": "code",
      "source": [
        "with driver.session() as session:\n",
        "  for org in df['organization'].unique():\n",
        "    org_node = list(session.run(node_upsert(),\n",
        "                          data={\"nodeName\": str_strip(org),\n",
        "                            \"elementType\": \"instance\",\n",
        "                            \"nodeType\": \"Organization\",\n",
        "                            \"nodeCategory\": \"DREAM_KG\",\n",
        "                            \"srcSheet\": SRC_SHEET\n",
        "                          }))[0]['node']\n",
        "    root_cache_dict[ORG_NODE_TYPE][org] = {\n",
        "        'identifier': org_node.get('identifier'),\n",
        "        'abbreviation': org_node.get('abbreviation')\n",
        "    }\n",
        "  for category in set(reduce(lambda x,y: x+y, [i.split('|') for i in df['category'].unique()])):\n",
        "    cat_node = list(session.run(node_upsert(),\n",
        "                          data={\"nodeName\": str_strip(category),\n",
        "                            \"elementType\": \"instance\",\n",
        "                            \"nodeType\": \"Amenity\",\n",
        "                            \"nodeCategory\": \"DREAM_KG\",\n",
        "                            \"srcSheet\": SRC_SHEET\n",
        "                          }))[0]['node']\n",
        "    root_cache_dict[CAT_NODE_TYPE][category] = {\n",
        "        'identifier': cat_node.get('identifier'),\n",
        "        'abbreviation': cat_node.get('abbreviation')\n",
        "    }\n",
        "  for neighborhood in df['neighborhood'].unique():\n",
        "    nh_node = list(session.run(node_upsert(),\n",
        "                          data={\"nodeName\": str_strip(neighborhood),\n",
        "                            \"elementType\": \"instance\",\n",
        "                            \"nodeType\": \"Neighborhood\",\n",
        "                            \"nodeCategory\": \"DREAM_KG\",\n",
        "                            \"srcSheet\": SRC_SHEET\n",
        "                          }))[0]['node']\n",
        "    root_cache_dict[NH_NODE_TYPE][neighborhood] = {\n",
        "        'identifier': nh_node.get('identifier'),\n",
        "        'abbreviation': nh_node.get('abbreviation')\n",
        "    }"
      ],
      "metadata": {
        "collapsed": true,
        "id": "kguXzYN0_Una"
      },
      "execution_count": 11,
      "outputs": []
    },
    {
      "cell_type": "code",
      "source": [
        "with driver.session() as session:\n",
        "  for org, fac in df[['organization', 'program_or_facility']].drop_duplicates().values:\n",
        "    fac_node = list(session.run(node_upsert(parent=org_dict[str_strip(org)]),\n",
        "                          data={\"nodeName\": str_strip(fac),\n",
        "                            \"elementType\": \"instance\",\n",
        "                            \"nodeType\": \"ProgramOrFacility\",\n",
        "                            \"nodeCategory\": \"DREAM_KG\",\n",
        "                            \"srcSheet\": SRC_SHEET\n",
        "                          }))[0]['node']\n",
        "    fac_meta = {\n",
        "        'identifier': fac_node.get('identifier'),\n",
        "        'abbreviation': fac_node.get('abbreviation')\n",
        "    }\n",
        "    org_dict[org][fac] = fac_meta"
      ],
      "metadata": {
        "id": "TpGr2xr7APFl"
      },
      "execution_count": 12,
      "outputs": []
    },
    {
      "cell_type": "code",
      "source": [
        "with driver.session() as session:\n",
        "  for index, row in df.iterrows():\n",
        "    prg_meta = org_dict[str_strip(row['organization'])][str_strip(row['program_or_facility'])]\n",
        "\n",
        "    serv_node = list(session.run(node_upsert(parent=prg_meta),\n",
        "                      data={\"nodeName\": str_strip(row['service_name']),\n",
        "                        \"elementType\": \"instance\",\n",
        "                        \"nodeType\": \"Service\",\n",
        "                        \"nodeCategory\": \"DREAM_KG\",\n",
        "                        \"address\": str_strip(row[\"address\"]),\n",
        "                        \"latitude\": row[\"latitude\"],\n",
        "                        \"longitude\": row[\"longitude\"],\n",
        "                        \"recommendedFor\": str_strip(row[\"recommended_for\"]),\n",
        "                        \"requirements\": str_strip(row[\"requirements\"]),\n",
        "                        \"phone\": str_strip(str_rem_spec_char(row[\"phone\"])) if row['phone'] else '',\n",
        "                        \"nodeDesc\": str_strip(row['narrative']),\n",
        "                        \"schedule\": str_strip(row['schedule']),\n",
        "                        \"holidayException\": str_strip(row['holiday_exception']),\n",
        "                        \"srcSheet\": SRC_SHEET\n",
        "                      }))[0]['node']\n",
        "    serv_meta = {\n",
        "        'identifier': serv_node.get('identifier'),\n",
        "        'abbreviation': serv_node.get('abbreviation')\n",
        "    }\n",
        "    for cat in row['category'].split('|'):\n",
        "      cat_meta = cat_dict[cat]\n",
        "      session.run(business_rel_upsert(parent=serv_meta, child=cat_meta, rel='hasAmenity'), data={})\n",
        "\n",
        "    nh_meta = nh_dict[row['neighborhood']]\n",
        "    session.run(business_rel_upsert(parent=serv_meta, child=nh_meta, rel='hasNeighborhood'), data={})"
      ],
      "metadata": {
        "collapsed": true,
        "id": "tZKj_Z1XbyLW"
      },
      "execution_count": 13,
      "outputs": []
    },
    {
      "cell_type": "markdown",
      "source": [
        "## Sheet 2 - Food_Resources_in_California.csv"
      ],
      "metadata": {
        "id": "Og5m1C8hPPa4"
      }
    },
    {
      "cell_type": "code",
      "source": [
        "SRC_SHEET = 'dataset/Food_Resources_in_California.csv'\n",
        "food_data_ca_df = pd.read_csv(SRC_SHEET)"
      ],
      "metadata": {
        "id": "-qCFD0B6XK2s"
      },
      "execution_count": 14,
      "outputs": []
    },
    {
      "cell_type": "code",
      "source": [
        "food_data_ca_df['web_link_extract'] = food_data_ca_df['Web Link'].str.extract(r'https?://w?w?w?[.]?([^.]+)')"
      ],
      "metadata": {
        "id": "S_Et_GIDXbOE"
      },
      "execution_count": 15,
      "outputs": []
    },
    {
      "cell_type": "code",
      "source": [
        "food_data_ca_df.loc[food_data_ca_df['web_link_extract'] == 'facebook', 'web_link_extract'] = food_data_ca_df.loc[food_data_ca_df['web_link_extract'] == 'facebook', 'Web Link'].str.extract(r'(?i)facebook.com/?(?:pg|pages)?/?(?:category)?/?(?:community)?/?([^/]*)?')[0]\n",
        "food_data_ca_df['web_link_extract'] = food_data_ca_df['web_link_extract'].fillna(food_data_ca_df['Name'])"
      ],
      "metadata": {
        "id": "QWwrtBioviP9"
      },
      "execution_count": 16,
      "outputs": []
    },
    {
      "cell_type": "code",
      "source": [
        "food_data_ca_df.loc[[19, 144, 198]]"
      ],
      "metadata": {
        "colab": {
          "base_uri": "https://localhost:8080/",
          "height": 213
        },
        "id": "wXfHsfhQz3JQ",
        "outputId": "affde4cf-2030-42de-b5d9-a7ccdedd2889"
      },
      "execution_count": 17,
      "outputs": [
        {
          "output_type": "execute_result",
          "data": {
            "text/plain": [
              "                                               Name          Street Address  \\\n",
              "19                   Catholic Ladies Relief Society  1386 Longfellow Avenue   \n",
              "144                      Rural Human Services (RHS)    286 M Street Suite A   \n",
              "198  Our Savior’s Lutheran\\nChurch (Food Resources)         425 Shaw Avenue   \n",
              "\n",
              "              City State  Zip Code     County           Phone  \\\n",
              "19           Chico    CA     95926      Butte  (530) 895-8331   \n",
              "144  Crescent City    CA     95531  Del Norte    707-464-7441   \n",
              "198       Ferndale    CA     95536   Humboldt    707-786-9619   \n",
              "\n",
              "                                           Description  \\\n",
              "19   Monday - Friday, 9am-12pm. Emergency food assi...   \n",
              "144  Offers emergency food boxes and basic hygiene ...   \n",
              "198  Free clothing closet open on Wednesdays from 1...   \n",
              "\n",
              "                 Resource Type  \\\n",
              "19   Food Distribution Program   \n",
              "144                Food Pantry   \n",
              "198                Food Pantry   \n",
              "\n",
              "                                              Web Link Notes   Latitude  \\\n",
              "19   https://www.facebook.com/Catholic-Ladies-Relie...   NaN  39.751954   \n",
              "144               http://www.facebook.com/rhsfoodbank/   NaN  41.754594   \n",
              "198                                                NaN   NaN  40.578274   \n",
              "\n",
              "      Longitude                                   web_link_extract  \n",
              "19  -121.824637  Catholic-Ladies-Relief-Society-3-1681359945507214  \n",
              "144 -124.192643                                        rhsfoodbank  \n",
              "198 -124.264446     Our Savior’s Lutheran\\nChurch (Food Resources)  "
            ],
            "text/html": [
              "\n",
              "  <div id=\"df-ec45ad89-0e77-478c-b33c-6ff28174a8f4\" class=\"colab-df-container\">\n",
              "    <div>\n",
              "<style scoped>\n",
              "    .dataframe tbody tr th:only-of-type {\n",
              "        vertical-align: middle;\n",
              "    }\n",
              "\n",
              "    .dataframe tbody tr th {\n",
              "        vertical-align: top;\n",
              "    }\n",
              "\n",
              "    .dataframe thead th {\n",
              "        text-align: right;\n",
              "    }\n",
              "</style>\n",
              "<table border=\"1\" class=\"dataframe\">\n",
              "  <thead>\n",
              "    <tr style=\"text-align: right;\">\n",
              "      <th></th>\n",
              "      <th>Name</th>\n",
              "      <th>Street Address</th>\n",
              "      <th>City</th>\n",
              "      <th>State</th>\n",
              "      <th>Zip Code</th>\n",
              "      <th>County</th>\n",
              "      <th>Phone</th>\n",
              "      <th>Description</th>\n",
              "      <th>Resource Type</th>\n",
              "      <th>Web Link</th>\n",
              "      <th>Notes</th>\n",
              "      <th>Latitude</th>\n",
              "      <th>Longitude</th>\n",
              "      <th>web_link_extract</th>\n",
              "    </tr>\n",
              "  </thead>\n",
              "  <tbody>\n",
              "    <tr>\n",
              "      <th>19</th>\n",
              "      <td>Catholic Ladies Relief Society</td>\n",
              "      <td>1386 Longfellow Avenue</td>\n",
              "      <td>Chico</td>\n",
              "      <td>CA</td>\n",
              "      <td>95926</td>\n",
              "      <td>Butte</td>\n",
              "      <td>(530) 895-8331</td>\n",
              "      <td>Monday - Friday, 9am-12pm. Emergency food assi...</td>\n",
              "      <td>Food Distribution Program</td>\n",
              "      <td>https://www.facebook.com/Catholic-Ladies-Relie...</td>\n",
              "      <td>NaN</td>\n",
              "      <td>39.751954</td>\n",
              "      <td>-121.824637</td>\n",
              "      <td>Catholic-Ladies-Relief-Society-3-1681359945507214</td>\n",
              "    </tr>\n",
              "    <tr>\n",
              "      <th>144</th>\n",
              "      <td>Rural Human Services (RHS)</td>\n",
              "      <td>286 M Street Suite A</td>\n",
              "      <td>Crescent City</td>\n",
              "      <td>CA</td>\n",
              "      <td>95531</td>\n",
              "      <td>Del Norte</td>\n",
              "      <td>707-464-7441</td>\n",
              "      <td>Offers emergency food boxes and basic hygiene ...</td>\n",
              "      <td>Food Pantry</td>\n",
              "      <td>http://www.facebook.com/rhsfoodbank/</td>\n",
              "      <td>NaN</td>\n",
              "      <td>41.754594</td>\n",
              "      <td>-124.192643</td>\n",
              "      <td>rhsfoodbank</td>\n",
              "    </tr>\n",
              "    <tr>\n",
              "      <th>198</th>\n",
              "      <td>Our Savior’s Lutheran\\nChurch (Food Resources)</td>\n",
              "      <td>425 Shaw Avenue</td>\n",
              "      <td>Ferndale</td>\n",
              "      <td>CA</td>\n",
              "      <td>95536</td>\n",
              "      <td>Humboldt</td>\n",
              "      <td>707-786-9619</td>\n",
              "      <td>Free clothing closet open on Wednesdays from 1...</td>\n",
              "      <td>Food Pantry</td>\n",
              "      <td>NaN</td>\n",
              "      <td>NaN</td>\n",
              "      <td>40.578274</td>\n",
              "      <td>-124.264446</td>\n",
              "      <td>Our Savior’s Lutheran\\nChurch (Food Resources)</td>\n",
              "    </tr>\n",
              "  </tbody>\n",
              "</table>\n",
              "</div>\n",
              "    <div class=\"colab-df-buttons\">\n",
              "\n",
              "  <div class=\"colab-df-container\">\n",
              "    <button class=\"colab-df-convert\" onclick=\"convertToInteractive('df-ec45ad89-0e77-478c-b33c-6ff28174a8f4')\"\n",
              "            title=\"Convert this dataframe to an interactive table.\"\n",
              "            style=\"display:none;\">\n",
              "\n",
              "  <svg xmlns=\"http://www.w3.org/2000/svg\" height=\"24px\" viewBox=\"0 -960 960 960\">\n",
              "    <path d=\"M120-120v-720h720v720H120Zm60-500h600v-160H180v160Zm220 220h160v-160H400v160Zm0 220h160v-160H400v160ZM180-400h160v-160H180v160Zm440 0h160v-160H620v160ZM180-180h160v-160H180v160Zm440 0h160v-160H620v160Z\"/>\n",
              "  </svg>\n",
              "    </button>\n",
              "\n",
              "  <style>\n",
              "    .colab-df-container {\n",
              "      display:flex;\n",
              "      gap: 12px;\n",
              "    }\n",
              "\n",
              "    .colab-df-convert {\n",
              "      background-color: #E8F0FE;\n",
              "      border: none;\n",
              "      border-radius: 50%;\n",
              "      cursor: pointer;\n",
              "      display: none;\n",
              "      fill: #1967D2;\n",
              "      height: 32px;\n",
              "      padding: 0 0 0 0;\n",
              "      width: 32px;\n",
              "    }\n",
              "\n",
              "    .colab-df-convert:hover {\n",
              "      background-color: #E2EBFA;\n",
              "      box-shadow: 0px 1px 2px rgba(60, 64, 67, 0.3), 0px 1px 3px 1px rgba(60, 64, 67, 0.15);\n",
              "      fill: #174EA6;\n",
              "    }\n",
              "\n",
              "    .colab-df-buttons div {\n",
              "      margin-bottom: 4px;\n",
              "    }\n",
              "\n",
              "    [theme=dark] .colab-df-convert {\n",
              "      background-color: #3B4455;\n",
              "      fill: #D2E3FC;\n",
              "    }\n",
              "\n",
              "    [theme=dark] .colab-df-convert:hover {\n",
              "      background-color: #434B5C;\n",
              "      box-shadow: 0px 1px 3px 1px rgba(0, 0, 0, 0.15);\n",
              "      filter: drop-shadow(0px 1px 2px rgba(0, 0, 0, 0.3));\n",
              "      fill: #FFFFFF;\n",
              "    }\n",
              "  </style>\n",
              "\n",
              "    <script>\n",
              "      const buttonEl =\n",
              "        document.querySelector('#df-ec45ad89-0e77-478c-b33c-6ff28174a8f4 button.colab-df-convert');\n",
              "      buttonEl.style.display =\n",
              "        google.colab.kernel.accessAllowed ? 'block' : 'none';\n",
              "\n",
              "      async function convertToInteractive(key) {\n",
              "        const element = document.querySelector('#df-ec45ad89-0e77-478c-b33c-6ff28174a8f4');\n",
              "        const dataTable =\n",
              "          await google.colab.kernel.invokeFunction('convertToInteractive',\n",
              "                                                    [key], {});\n",
              "        if (!dataTable) return;\n",
              "\n",
              "        const docLinkHtml = 'Like what you see? Visit the ' +\n",
              "          '<a target=\"_blank\" href=https://colab.research.google.com/notebooks/data_table.ipynb>data table notebook</a>'\n",
              "          + ' to learn more about interactive tables.';\n",
              "        element.innerHTML = '';\n",
              "        dataTable['output_type'] = 'display_data';\n",
              "        await google.colab.output.renderOutput(dataTable, element);\n",
              "        const docLink = document.createElement('div');\n",
              "        docLink.innerHTML = docLinkHtml;\n",
              "        element.appendChild(docLink);\n",
              "      }\n",
              "    </script>\n",
              "  </div>\n",
              "\n",
              "\n",
              "<div id=\"df-57128196-78d9-4a67-8649-9d0b4aef8720\">\n",
              "  <button class=\"colab-df-quickchart\" onclick=\"quickchart('df-57128196-78d9-4a67-8649-9d0b4aef8720')\"\n",
              "            title=\"Suggest charts\"\n",
              "            style=\"display:none;\">\n",
              "\n",
              "<svg xmlns=\"http://www.w3.org/2000/svg\" height=\"24px\"viewBox=\"0 0 24 24\"\n",
              "     width=\"24px\">\n",
              "    <g>\n",
              "        <path d=\"M19 3H5c-1.1 0-2 .9-2 2v14c0 1.1.9 2 2 2h14c1.1 0 2-.9 2-2V5c0-1.1-.9-2-2-2zM9 17H7v-7h2v7zm4 0h-2V7h2v10zm4 0h-2v-4h2v4z\"/>\n",
              "    </g>\n",
              "</svg>\n",
              "  </button>\n",
              "\n",
              "<style>\n",
              "  .colab-df-quickchart {\n",
              "      --bg-color: #E8F0FE;\n",
              "      --fill-color: #1967D2;\n",
              "      --hover-bg-color: #E2EBFA;\n",
              "      --hover-fill-color: #174EA6;\n",
              "      --disabled-fill-color: #AAA;\n",
              "      --disabled-bg-color: #DDD;\n",
              "  }\n",
              "\n",
              "  [theme=dark] .colab-df-quickchart {\n",
              "      --bg-color: #3B4455;\n",
              "      --fill-color: #D2E3FC;\n",
              "      --hover-bg-color: #434B5C;\n",
              "      --hover-fill-color: #FFFFFF;\n",
              "      --disabled-bg-color: #3B4455;\n",
              "      --disabled-fill-color: #666;\n",
              "  }\n",
              "\n",
              "  .colab-df-quickchart {\n",
              "    background-color: var(--bg-color);\n",
              "    border: none;\n",
              "    border-radius: 50%;\n",
              "    cursor: pointer;\n",
              "    display: none;\n",
              "    fill: var(--fill-color);\n",
              "    height: 32px;\n",
              "    padding: 0;\n",
              "    width: 32px;\n",
              "  }\n",
              "\n",
              "  .colab-df-quickchart:hover {\n",
              "    background-color: var(--hover-bg-color);\n",
              "    box-shadow: 0 1px 2px rgba(60, 64, 67, 0.3), 0 1px 3px 1px rgba(60, 64, 67, 0.15);\n",
              "    fill: var(--button-hover-fill-color);\n",
              "  }\n",
              "\n",
              "  .colab-df-quickchart-complete:disabled,\n",
              "  .colab-df-quickchart-complete:disabled:hover {\n",
              "    background-color: var(--disabled-bg-color);\n",
              "    fill: var(--disabled-fill-color);\n",
              "    box-shadow: none;\n",
              "  }\n",
              "\n",
              "  .colab-df-spinner {\n",
              "    border: 2px solid var(--fill-color);\n",
              "    border-color: transparent;\n",
              "    border-bottom-color: var(--fill-color);\n",
              "    animation:\n",
              "      spin 1s steps(1) infinite;\n",
              "  }\n",
              "\n",
              "  @keyframes spin {\n",
              "    0% {\n",
              "      border-color: transparent;\n",
              "      border-bottom-color: var(--fill-color);\n",
              "      border-left-color: var(--fill-color);\n",
              "    }\n",
              "    20% {\n",
              "      border-color: transparent;\n",
              "      border-left-color: var(--fill-color);\n",
              "      border-top-color: var(--fill-color);\n",
              "    }\n",
              "    30% {\n",
              "      border-color: transparent;\n",
              "      border-left-color: var(--fill-color);\n",
              "      border-top-color: var(--fill-color);\n",
              "      border-right-color: var(--fill-color);\n",
              "    }\n",
              "    40% {\n",
              "      border-color: transparent;\n",
              "      border-right-color: var(--fill-color);\n",
              "      border-top-color: var(--fill-color);\n",
              "    }\n",
              "    60% {\n",
              "      border-color: transparent;\n",
              "      border-right-color: var(--fill-color);\n",
              "    }\n",
              "    80% {\n",
              "      border-color: transparent;\n",
              "      border-right-color: var(--fill-color);\n",
              "      border-bottom-color: var(--fill-color);\n",
              "    }\n",
              "    90% {\n",
              "      border-color: transparent;\n",
              "      border-bottom-color: var(--fill-color);\n",
              "    }\n",
              "  }\n",
              "</style>\n",
              "\n",
              "  <script>\n",
              "    async function quickchart(key) {\n",
              "      const quickchartButtonEl =\n",
              "        document.querySelector('#' + key + ' button');\n",
              "      quickchartButtonEl.disabled = true;  // To prevent multiple clicks.\n",
              "      quickchartButtonEl.classList.add('colab-df-spinner');\n",
              "      try {\n",
              "        const charts = await google.colab.kernel.invokeFunction(\n",
              "            'suggestCharts', [key], {});\n",
              "      } catch (error) {\n",
              "        console.error('Error during call to suggestCharts:', error);\n",
              "      }\n",
              "      quickchartButtonEl.classList.remove('colab-df-spinner');\n",
              "      quickchartButtonEl.classList.add('colab-df-quickchart-complete');\n",
              "    }\n",
              "    (() => {\n",
              "      let quickchartButtonEl =\n",
              "        document.querySelector('#df-57128196-78d9-4a67-8649-9d0b4aef8720 button');\n",
              "      quickchartButtonEl.style.display =\n",
              "        google.colab.kernel.accessAllowed ? 'block' : 'none';\n",
              "    })();\n",
              "  </script>\n",
              "</div>\n",
              "\n",
              "    </div>\n",
              "  </div>\n"
            ],
            "application/vnd.google.colaboratory.intrinsic+json": {
              "type": "dataframe",
              "repr_error": "0"
            }
          },
          "metadata": {},
          "execution_count": 17
        }
      ]
    },
    {
      "cell_type": "code",
      "source": [
        "food_data_ca_df.loc[(food_data_ca_df['web_link_extract'].isna()) | (food_data_ca_df['web_link_extract'] == 'facebook')]"
      ],
      "metadata": {
        "colab": {
          "base_uri": "https://localhost:8080/",
          "height": 53
        },
        "id": "n6hFLtZ8s0Rf",
        "outputId": "8ace9d96-fddf-48a2-8db2-dab2ceab96e7"
      },
      "execution_count": 18,
      "outputs": [
        {
          "output_type": "execute_result",
          "data": {
            "text/plain": [
              "Empty DataFrame\n",
              "Columns: [Name, Street Address, City, State, Zip Code, County, Phone, Description, Resource Type, Web Link, Notes, Latitude, Longitude, web_link_extract]\n",
              "Index: []"
            ],
            "text/html": [
              "\n",
              "  <div id=\"df-34dbb7c4-42be-4662-91e4-9be1ee6127e0\" class=\"colab-df-container\">\n",
              "    <div>\n",
              "<style scoped>\n",
              "    .dataframe tbody tr th:only-of-type {\n",
              "        vertical-align: middle;\n",
              "    }\n",
              "\n",
              "    .dataframe tbody tr th {\n",
              "        vertical-align: top;\n",
              "    }\n",
              "\n",
              "    .dataframe thead th {\n",
              "        text-align: right;\n",
              "    }\n",
              "</style>\n",
              "<table border=\"1\" class=\"dataframe\">\n",
              "  <thead>\n",
              "    <tr style=\"text-align: right;\">\n",
              "      <th></th>\n",
              "      <th>Name</th>\n",
              "      <th>Street Address</th>\n",
              "      <th>City</th>\n",
              "      <th>State</th>\n",
              "      <th>Zip Code</th>\n",
              "      <th>County</th>\n",
              "      <th>Phone</th>\n",
              "      <th>Description</th>\n",
              "      <th>Resource Type</th>\n",
              "      <th>Web Link</th>\n",
              "      <th>Notes</th>\n",
              "      <th>Latitude</th>\n",
              "      <th>Longitude</th>\n",
              "      <th>web_link_extract</th>\n",
              "    </tr>\n",
              "  </thead>\n",
              "  <tbody>\n",
              "  </tbody>\n",
              "</table>\n",
              "</div>\n",
              "    <div class=\"colab-df-buttons\">\n",
              "\n",
              "  <div class=\"colab-df-container\">\n",
              "    <button class=\"colab-df-convert\" onclick=\"convertToInteractive('df-34dbb7c4-42be-4662-91e4-9be1ee6127e0')\"\n",
              "            title=\"Convert this dataframe to an interactive table.\"\n",
              "            style=\"display:none;\">\n",
              "\n",
              "  <svg xmlns=\"http://www.w3.org/2000/svg\" height=\"24px\" viewBox=\"0 -960 960 960\">\n",
              "    <path d=\"M120-120v-720h720v720H120Zm60-500h600v-160H180v160Zm220 220h160v-160H400v160Zm0 220h160v-160H400v160ZM180-400h160v-160H180v160Zm440 0h160v-160H620v160ZM180-180h160v-160H180v160Zm440 0h160v-160H620v160Z\"/>\n",
              "  </svg>\n",
              "    </button>\n",
              "\n",
              "  <style>\n",
              "    .colab-df-container {\n",
              "      display:flex;\n",
              "      gap: 12px;\n",
              "    }\n",
              "\n",
              "    .colab-df-convert {\n",
              "      background-color: #E8F0FE;\n",
              "      border: none;\n",
              "      border-radius: 50%;\n",
              "      cursor: pointer;\n",
              "      display: none;\n",
              "      fill: #1967D2;\n",
              "      height: 32px;\n",
              "      padding: 0 0 0 0;\n",
              "      width: 32px;\n",
              "    }\n",
              "\n",
              "    .colab-df-convert:hover {\n",
              "      background-color: #E2EBFA;\n",
              "      box-shadow: 0px 1px 2px rgba(60, 64, 67, 0.3), 0px 1px 3px 1px rgba(60, 64, 67, 0.15);\n",
              "      fill: #174EA6;\n",
              "    }\n",
              "\n",
              "    .colab-df-buttons div {\n",
              "      margin-bottom: 4px;\n",
              "    }\n",
              "\n",
              "    [theme=dark] .colab-df-convert {\n",
              "      background-color: #3B4455;\n",
              "      fill: #D2E3FC;\n",
              "    }\n",
              "\n",
              "    [theme=dark] .colab-df-convert:hover {\n",
              "      background-color: #434B5C;\n",
              "      box-shadow: 0px 1px 3px 1px rgba(0, 0, 0, 0.15);\n",
              "      filter: drop-shadow(0px 1px 2px rgba(0, 0, 0, 0.3));\n",
              "      fill: #FFFFFF;\n",
              "    }\n",
              "  </style>\n",
              "\n",
              "    <script>\n",
              "      const buttonEl =\n",
              "        document.querySelector('#df-34dbb7c4-42be-4662-91e4-9be1ee6127e0 button.colab-df-convert');\n",
              "      buttonEl.style.display =\n",
              "        google.colab.kernel.accessAllowed ? 'block' : 'none';\n",
              "\n",
              "      async function convertToInteractive(key) {\n",
              "        const element = document.querySelector('#df-34dbb7c4-42be-4662-91e4-9be1ee6127e0');\n",
              "        const dataTable =\n",
              "          await google.colab.kernel.invokeFunction('convertToInteractive',\n",
              "                                                    [key], {});\n",
              "        if (!dataTable) return;\n",
              "\n",
              "        const docLinkHtml = 'Like what you see? Visit the ' +\n",
              "          '<a target=\"_blank\" href=https://colab.research.google.com/notebooks/data_table.ipynb>data table notebook</a>'\n",
              "          + ' to learn more about interactive tables.';\n",
              "        element.innerHTML = '';\n",
              "        dataTable['output_type'] = 'display_data';\n",
              "        await google.colab.output.renderOutput(dataTable, element);\n",
              "        const docLink = document.createElement('div');\n",
              "        docLink.innerHTML = docLinkHtml;\n",
              "        element.appendChild(docLink);\n",
              "      }\n",
              "    </script>\n",
              "  </div>\n",
              "\n",
              "\n",
              "    </div>\n",
              "  </div>\n"
            ],
            "application/vnd.google.colaboratory.intrinsic+json": {
              "type": "dataframe",
              "repr_error": "Out of range float values are not JSON compliant: nan"
            }
          },
          "metadata": {},
          "execution_count": 18
        }
      ]
    },
    {
      "cell_type": "code",
      "source": [
        "# Organization\n",
        "with driver.session() as session:\n",
        "  for org in food_data_ca_df['web_link_extract'].unique():\n",
        "    org_node = list(session.run(node_upsert(),\n",
        "                          data={\"nodeName\": str_strip(org),\n",
        "                            \"elementType\": \"instance\",\n",
        "                            \"nodeType\": \"Organization\",\n",
        "                            \"nodeCategory\": \"DREAM_KG\",\n",
        "                            \"srcSheet\": SRC_SHEET\n",
        "                          }))[0]['node']\n",
        "    root_cache_dict[ORG_NODE_TYPE][org] = {\n",
        "        'identifier': org_node.get('identifier'),\n",
        "        'abbreviation': org_node.get('abbreviation')\n",
        "    }\n",
        "\n",
        "# ProgramOrFacility\n",
        "with driver.session() as session:\n",
        "  for org, fac in food_data_ca_df[['web_link_extract', 'Name']].drop_duplicates().values:\n",
        "    fac_node = list(session.run(node_upsert(parent=org_dict[str_strip(org)]),\n",
        "                          data={\"nodeName\": str_strip(fac),\n",
        "                            \"elementType\": \"instance\",\n",
        "                            \"nodeType\": \"ProgramOrFacility\",\n",
        "                            \"nodeCategory\": \"DREAM_KG\",\n",
        "                            \"srcSheet\": SRC_SHEET\n",
        "                          }))[0]['node']\n",
        "    fac_meta = {\n",
        "        'identifier': fac_node.get('identifier'),\n",
        "        'abbreviation': fac_node.get('abbreviation')\n",
        "    }\n",
        "    org_dict[org][fac] = fac_meta"
      ],
      "metadata": {
        "id": "ew54ZSaoXdw0"
      },
      "execution_count": 19,
      "outputs": []
    },
    {
      "cell_type": "code",
      "source": [
        "food_data_ca_df['Phone'] = food_data_ca_df['Phone'].apply(lambda x: str_rem_spec_char(x))\n",
        "# Aggregate to merge same service records - 13 duplicate records found\n",
        "food_data_ca_df_grouped = food_data_ca_df.groupby(['web_link_extract', 'Name', 'Resource Type', 'Street Address', 'City', 'State', 'Zip Code', 'County']).agg({\n",
        "    'Phone': set,\n",
        "    'Web Link': set,\n",
        "    'Description': set,\n",
        "    'Notes': set,\n",
        "    'Latitude': set,\n",
        "    'Longitude': set,\n",
        "})\n",
        "food_data_ca_df_grouped = food_data_ca_df_grouped.reset_index()\n",
        "food_data_ca_df_grouped.fillna('', inplace=True)\n",
        "food_data_ca_df_grouped['address'] = food_data_ca_df_grouped['Street Address'] + ', ' + food_data_ca_df_grouped['City'] + ', ' + food_data_ca_df_grouped['State'] + ' ' + food_data_ca_df_grouped['Zip Code'].astype(str)"
      ],
      "metadata": {
        "id": "VKqO1j9p4obN",
        "collapsed": true
      },
      "execution_count": 20,
      "outputs": []
    },
    {
      "cell_type": "code",
      "source": [
        "food_data_ca_df_grouped['address'] = food_data_ca_df_grouped['Street Address'] + ', ' + food_data_ca_df_grouped['City'] + ', ' + food_data_ca_df_grouped['State'] + ' ' + food_data_ca_df_grouped['Zip Code'].astype(str)\n",
        "with driver.session() as session:\n",
        "  for category in food_data_ca_df_grouped['Resource Type'].unique():\n",
        "    cat_node = list(session.run(node_upsert(),\n",
        "                          data={\"nodeName\": str_strip(category),\n",
        "                            \"elementType\": \"instance\",\n",
        "                            \"nodeType\": \"Amenity\",\n",
        "                            \"nodeCategory\": \"DREAM_KG\",\n",
        "                            \"srcSheet\": SRC_SHEET\n",
        "                          }))[0]['node']\n",
        "    root_cache_dict[CAT_NODE_TYPE][category] = {\n",
        "        'identifier': cat_node.get('identifier'),\n",
        "        'abbreviation': cat_node.get('abbreviation')\n",
        "    }"
      ],
      "metadata": {
        "id": "JqVy-oE33NWX"
      },
      "execution_count": 21,
      "outputs": []
    },
    {
      "cell_type": "code",
      "source": [
        "with driver.session() as session:\n",
        "  for index, row in food_data_ca_df_grouped.iterrows():\n",
        "    prg_meta = org_dict[str_strip(row['web_link_extract'])][str_strip(row['Name'])]\n",
        "\n",
        "    serv_node = list(session.run(node_upsert(parent=prg_meta),\n",
        "                      data={\"nodeName\": str_strip(row['Resource Type']) + ' - ' + str_strip(row['Street Address']),\n",
        "                        \"elementType\": \"instance\",\n",
        "                        \"nodeType\": \"Service\",\n",
        "                        \"nodeCategory\": \"DREAM_KG\",\n",
        "                        \"nodeDesc\": str_strip('; '.join([str(val) if pd.notna(val) else '' for val in row['Description']])),\n",
        "                        \"url\": str_strip(';'.join([str(val) if pd.notna(val) else '' for val in row[\"Web Link\"]])),\n",
        "                        \"notes\": str_strip(';'.join([str(val) if pd.notna(val) else '' for val in row['Notes']])),\n",
        "                        \"category\": str_strip(row['Resource Type']),\n",
        "                        \"streetAddress\": str_strip(row[\"Street Address\"]),\n",
        "                        \"city\": str_strip(row[\"City\"]),\n",
        "                        \"state\": str_strip(row[\"State\"]),\n",
        "                        \"zipCode\": row[\"Zip Code\"],\n",
        "                        \"county\": str_strip(row[\"County\"]),\n",
        "                        \"phone\": list(row['Phone']),\n",
        "                        \"latitude\": list(row[\"Latitude\"]),\n",
        "                        \"longitude\": list(row[\"Longitude\"]),\n",
        "                        \"srcSheet\": SRC_SHEET\n",
        "                      }))[0]['node']\n",
        "    serv_meta = {\n",
        "        'identifier': serv_node.get('identifier'),\n",
        "        'abbreviation': serv_node.get('abbreviation')\n",
        "    }\n",
        "    session.run(business_rel_upsert(parent=serv_meta, child=cat_dict[str_strip(row['Resource Type'])], rel='hasAmenity'), data={})"
      ],
      "metadata": {
        "id": "KPWx9M_u2tog"
      },
      "execution_count": 22,
      "outputs": []
    },
    {
      "cell_type": "markdown",
      "source": [
        "## Sheet 3 - FOOD BANKS.csv\n"
      ],
      "metadata": {
        "id": "LUGQCVspRF-Q"
      }
    },
    {
      "cell_type": "code",
      "source": [
        "SRC_SHEET = 'dataset/FOOD BANKS.csv'\n",
        "food_banks_df = pd.read_csv(SRC_SHEET)\n",
        "food_banks_df.fillna('', inplace=True)"
      ],
      "metadata": {
        "colab": {
          "base_uri": "https://localhost:8080/"
        },
        "id": "Ap0-oyZnbgSy",
        "outputId": "7e618792-480e-44d4-e8f8-bcceac9e1761"
      },
      "execution_count": 23,
      "outputs": [
        {
          "output_type": "stream",
          "name": "stderr",
          "text": [
            "<ipython-input-23-2fe2373edb00>:3: FutureWarning: Setting an item of incompatible dtype is deprecated and will raise an error in a future version of pandas. Value '' has dtype incompatible with float64, please explicitly cast to a compatible dtype first.\n",
            "  food_banks_df.fillna('', inplace=True)\n"
          ]
        }
      ]
    },
    {
      "cell_type": "code",
      "source": [
        "# Category\n",
        "with driver.session() as session:\n",
        "  for category in set(reduce(lambda x,y: x+y, [i.split(';') for i in food_banks_df['KEYWORDS'].unique()])):\n",
        "    cat_node = list(session.run(node_upsert(),\n",
        "                          data={\"nodeName\": str_strip(category),\n",
        "                            \"elementType\": \"instance\",\n",
        "                            \"nodeType\": \"Amenity\",\n",
        "                            \"nodeCategory\": \"DREAM_KG\",\n",
        "                            \"srcSheet\": SRC_SHEET\n",
        "                          }))[0]['node']\n",
        "    root_cache_dict[CAT_NODE_TYPE][category] = {\n",
        "        'identifier': cat_node.get('identifier'),\n",
        "        'abbreviation': cat_node.get('abbreviation')\n",
        "    }"
      ],
      "metadata": {
        "id": "chrfePE21IpR"
      },
      "execution_count": 24,
      "outputs": []
    },
    {
      "cell_type": "code",
      "source": [
        "with driver.session() as session:\n",
        "  for org in food_banks_df['CUST_ORG'].unique():\n",
        "    org_node = list(session.run(node_upsert(),\n",
        "                          data={\"nodeName\": str_strip(org),\n",
        "                            \"elementType\": \"instance\",\n",
        "                            \"nodeType\": \"Organization\",\n",
        "                            \"nodeCategory\": \"DREAM_KG\",\n",
        "                            \"srcSheet\": SRC_SHEET\n",
        "                          }))[0]['node']\n",
        "    root_cache_dict[ORG_NODE_TYPE][org] = {\n",
        "        'identifier': org_node.get('identifier'),\n",
        "        'abbreviation': org_node.get('abbreviation')\n",
        "    }"
      ],
      "metadata": {
        "id": "iG-cGK0B1KBL"
      },
      "execution_count": 25,
      "outputs": []
    },
    {
      "cell_type": "code",
      "source": [
        "# ProgramOrFacility\n",
        "org_dict = root_cache_dict[ORG_NODE_TYPE]\n",
        "with driver.session() as session:\n",
        "  for org, fac in food_banks_df[['CUST_ORG', 'FCLTY_NM']].drop_duplicates().values:\n",
        "    fac_node = list(session.run(node_upsert(parent=org_dict[org]),\n",
        "                          data={\"nodeName\": str_strip(fac),\n",
        "                            \"elementType\": \"instance\",\n",
        "                            \"nodeType\": \"ProgramOrFacility\",\n",
        "                            \"nodeCategory\": \"DREAM_KG\",\n",
        "                            \"srcSheet\": SRC_SHEET\n",
        "                          }))[0]['node']\n",
        "    fac_meta = {\n",
        "        'identifier': fac_node.get('identifier'),\n",
        "        'abbreviation': fac_node.get('abbreviation')\n",
        "    }\n",
        "    org_dict[org][fac] = fac_meta"
      ],
      "metadata": {
        "id": "6UgpWE1F4JMl"
      },
      "execution_count": 26,
      "outputs": []
    },
    {
      "cell_type": "code",
      "source": [
        "with driver.session() as session:\n",
        "  for index, row in food_banks_df.iterrows():\n",
        "    prg_meta = org_dict[row['CUST_ORG']][str_strip(row['FCLTY_NM'])]\n",
        "\n",
        "    serv_node = list(session.run(node_upsert(parent=prg_meta),\n",
        "                      data={\"nodeName\": str_strip(row['FCLTY_NM']),\n",
        "                        \"elementType\": \"instance\",\n",
        "                        \"nodeType\": \"Service\",\n",
        "                        \"nodeCategory\": \"DREAM_KG\",\n",
        "                        \"address\": str_strip(row[\"ADDRESS\"]),\n",
        "                        \"streetAddress\": str_strip(row[\"ST_ADDRESS\"]),\n",
        "                        \"city\": str_strip(row[\"LOCALITY\"]),\n",
        "                        \"mailAddress\": str_strip(row[\"MAIL_ADD\"]),\n",
        "                        \"zipCode\": str_strip(row[\"POSTAL_CD\"]),\n",
        "                        \"nodeDesc\": str_strip(row['BUS_CAT_DS']),\n",
        "                        \"url\": str_strip(row['WEBSITE']),\n",
        "                        \"imageUrl\": str_strip(row['IMAGE_URL']),\n",
        "                        \"phone\": row['CONT_PHONE'],\n",
        "                        \"fax\": row['CONT_FAX'],\n",
        "                        \"latitude\": row[\"LATITUDE\"],\n",
        "                        \"longitude\": row[\"LONGITUDE\"],\n",
        "                        \"xCoordinate\": row[\"X\"],\n",
        "                        \"yCoordinate\": row[\"Y\"],\n",
        "                        \"srcUpdatedDate\": row['DT_UPDATE'],\n",
        "                        \"srcId\": row['SRCDATA_ID'],\n",
        "                        \"srcSheet\": SRC_SHEET\n",
        "                      }))[0]['node']\n",
        "    serv_meta = {\n",
        "        'identifier': serv_node.get('identifier'),\n",
        "        'abbreviation': serv_node.get('abbreviation')\n",
        "    }\n",
        "\n",
        "    for cat in row['KEYWORDS'].split(';'):\n",
        "      cat_meta = cat_dict[str_strip(cat)]\n",
        "      session.run(business_rel_upsert(parent=serv_meta, child=cat_meta, rel='hasAmenity'), data={})"
      ],
      "metadata": {
        "id": "3kHmMf517p7P"
      },
      "execution_count": 27,
      "outputs": []
    },
    {
      "cell_type": "markdown",
      "source": [
        "## Sheet 4 - Directory_Of_Homeless_Drop-_In_Centers.csv"
      ],
      "metadata": {
        "id": "ciwa5-XaS-xA"
      }
    },
    {
      "cell_type": "code",
      "source": [
        "SRC_SHEET = 'dataset/Directory_Of_Homeless_Drop-_In_Centers.csv'\n",
        "dir_homeless_center_df = pd.read_csv(SRC_SHEET)\n",
        "dir_homeless_center_df.fillna('', inplace=True)"
      ],
      "metadata": {
        "id": "7tlc-SwHCHff"
      },
      "execution_count": 28,
      "outputs": []
    },
    {
      "cell_type": "code",
      "source": [
        "org_dict = root_cache_dict[ORG_NODE_TYPE]\n",
        "with driver.session() as session:\n",
        "  org_node = list(session.run(node_upsert(),\n",
        "                        data={\"nodeName\": \"Other\",\n",
        "                          \"elementType\": \"instance\",\n",
        "                          \"nodeType\": \"Organization\",\n",
        "                          \"nodeCategory\": \"DREAM_KG\",\n",
        "                          \"srcSheet\": SRC_SHEET\n",
        "                        }))[0]['node']\n",
        "  org_dict['Other'] = {\n",
        "      'identifier': org_node.get('identifier'),\n",
        "      'abbreviation': org_node.get('abbreviation')\n",
        "  }\n",
        "\n",
        "  fac_node = list(session.run(node_upsert(parent=org_dict['Other']),\n",
        "                        data={\"nodeName\": 'Other',\n",
        "                          \"elementType\": \"instance\",\n",
        "                          \"nodeType\": \"ProgramOrFacility\",\n",
        "                          \"nodeCategory\": \"DREAM_KG\",\n",
        "                          \"srcSheet\": SRC_SHEET\n",
        "                        }))[0]['node']\n",
        "  fac_meta = {\n",
        "      'identifier': fac_node.get('identifier'),\n",
        "      'abbreviation': fac_node.get('abbreviation')\n",
        "  }\n",
        "  org_dict['Other']['Other'] = fac_meta\n",
        "\n",
        "  cat_node = list(session.run(node_upsert(),\n",
        "                        data={\"nodeName\": \"Drop-In Center\",\n",
        "                          \"elementType\": \"instance\",\n",
        "                          \"nodeType\": \"Amenity\",\n",
        "                          \"nodeCategory\": \"DREAM_KG\",\n",
        "                          \"srcSheet\": SRC_SHEET\n",
        "                        }))[0]['node']\n",
        "  root_cache_dict[CAT_NODE_TYPE]['Drop-In Center'] = {\n",
        "      'identifier': cat_node.get('identifier'),\n",
        "      'abbreviation': cat_node.get('abbreviation')\n",
        "  }"
      ],
      "metadata": {
        "id": "tmzB5n5lFtfC"
      },
      "execution_count": 29,
      "outputs": []
    },
    {
      "cell_type": "code",
      "source": [
        "org_dict = root_cache_dict[ORG_NODE_TYPE]\n",
        "with driver.session() as session:\n",
        "  for index, row in dir_homeless_center_df.iterrows():\n",
        "    prg_meta = org_dict['Other']['Other']\n",
        "\n",
        "    serv_node = list(session.run(node_upsert(parent=prg_meta),\n",
        "                      data={\"nodeName\": str_strip(row['Center Name']) + ' - ' + str_strip(row['Borough']),\n",
        "                        \"elementType\": \"instance\",\n",
        "                        \"nodeType\": \"Service\",\n",
        "                        \"nodeCategory\": \"DREAM_KG\",\n",
        "                        \"address\": str_strip(row[\"Address\"]),\n",
        "                        \"city\": str_strip(row[\"Borough\"]),\n",
        "                        \"neighborhood\": str_strip(row[\"NTA\"]),\n",
        "                        \"zipCode\": row[\"Postcode\"],\n",
        "                        \"nodeDesc\": str_strip(row['Comments']),\n",
        "                        \"communityBoard\": row['Community Board'],\n",
        "                        \"councilDistrict\": row['Council District'],\n",
        "                        \"censusTract\": str_strip(row['Census Tract'] if pd.isna(row['Census Tract']) else ''),\n",
        "                        \"latitude\": row[\"Latitude\"],\n",
        "                        \"longitude\": row[\"Longitude\"],\n",
        "                        \"bin\": row[\"BIN\"],\n",
        "                        \"bbl\": row[\"BBL\"],\n",
        "                        \"srcSheet\": SRC_SHEET\n",
        "                      }))[0]['node']\n",
        "    serv_meta = {\n",
        "        'identifier': serv_node.get('identifier'),\n",
        "        'abbreviation': serv_node.get('abbreviation')\n",
        "    }\n",
        "    session.run(business_rel_upsert(parent=serv_meta, child=root_cache_dict[CAT_NODE_TYPE]['Drop-In Center'], rel='hasAmenity'), data={})"
      ],
      "metadata": {
        "id": "UgAikSGoGn0D"
      },
      "execution_count": 30,
      "outputs": []
    },
    {
      "cell_type": "markdown",
      "source": [
        "## Data Enrichment\n",
        "\n",
        "\n",
        "MATCH (n:DREAM_KG{nodeType: \"Service\", srcSheet: 'dataset/Directory_Of_Homeless_Drop-_In_Centers.csv'}) WHERE n.streetAddress IS NULL WITH n, [i in apoc.text.split(n.address, '[;,]') | trim(i)] AS text WITH n, text[0] AS streetAddress, text[1] AS city, apoc.text.split(text[2], ' ') AS addr2 WITH n, streetAddress, city, TOINTEGER(addr2[1]) AS zipCode SET n += {streetAddress: streetAddress, city: city, state: 'New York', zipCode: zipCode} RETURN n.address, n.streetAddress, n.city, n.state, n.zipCode\n",
        "\n",
        "\n",
        "MATCH (n:DREAM_KG{nodeType: \"Service\", srcSheet: \"dataset/transformed/5a05b9ec-2fbf-43f2-bfff-1de2555ff7d4.xlsx\"}) WHERE n.streetAddress IS NULL\n",
        "WITH n, [i in apoc.text.split(n.address, ', ') | trim(i)] AS text WHERE text[1] = 'PA'\n",
        "WITH n, text SET n += {streetAddress: text[0], state: 'Pennsylvania' , zipCode: TOINTEGER(text[2])}\n",
        "RETURN n.address, n.streetAddress, n.city, n.state, n.zipCode ORDER BY n.zipCode DESC\n",
        "\n",
        "\n",
        "MATCH (n:DREAM_KG{nodeType: \"Service\", srcSheet: \"dataset/transformed/5a05b9ec-2fbf-43f2-bfff-1de2555ff7d4.xlsx\"}) WHERE n.streetAddress IS NULL\n",
        "WITH n, [i in apoc.text.split(n.address, ', ') | trim(i)] AS text WHERE text[1] <> 'PA'\n",
        "WITH n, text SET n += {streetAddress: text[0], state: 'Pennsylvania' , zipCode: TOINTEGER(text[-1])}\n",
        "RETURN n.address, text, n.streetAddress, n.city, n.zipCode ORDER BY n.zipCode DESC\n",
        "\n",
        "MATCH (n:DREAM_KG{nodeType: \"Service\", city: 'NY 10012'}) SET n.zipCode = 10012 REMOVE n.city RETURN n\n",
        "\n",
        "MATCH (n:DREAM_KG{nodeType: 'Location'}) WITH KEYS(n) AS keys UNWIND keys AS key\n",
        "RETURN COLLECT(DISTINCT key)\n",
        "\n",
        "\n",
        "**Enrichment Queries**\n",
        "\n",
        "MATCH (n:DREAM_KG{nodeType: 'Service'})\n",
        "MATCH (loc:DREAM_KG{nodeType: 'Location'}) WHERE TOSTRING(n.zipCode) CONTAINS loc.nodeName\n",
        "MERGE (n)-[r:locatedAt{locZipCode: loc.nodeName, svcZipCode: n.zipCode}]->(loc) SET r += {\n",
        "    createdDate: timestamp(),\n",
        "    startTime: timestamp(),\n",
        "    endTime: 4102444799000,\n",
        "    status: \"Confirmed\"\n",
        "}\n",
        "RETURN COUNT(*)\n",
        "\n",
        "MATCH (n:DREAM_KG{nodeType: 'Service'})\n",
        "MATCH (loc:DREAM_KG{nodeType: 'Location'}) WHERE TOSTRING(n.zipCode) = loc.nodeName\n",
        "MERGE (n)-[r:locatedAt{locZipCode: loc.nodeName, svcZipCode: n.zipCode}]->(loc) SET r += {\n",
        "    createdDate: timestamp(),\n",
        "    startTime: timestamp(),\n",
        "    endTime: 4102444799000,\n",
        "    status: \"Confirmed\"\n",
        "}\n",
        "RETURN COUNT(*)\n"
      ],
      "metadata": {
        "id": "O4cxSA9Y4jIE"
      }
    },
    {
      "cell_type": "markdown",
      "source": [
        "## Location NodeType"
      ],
      "metadata": {
        "id": "9YI66W1nTXOC"
      }
    },
    {
      "cell_type": "code",
      "source": [
        "with driver.session() as session:\n",
        "  zip_codes = list(session.run('''MATCH (n:DREAM_KG{nodeType: \"Service\"})\n",
        "  RETURN COLLECT(DISTINCT n.zipCode) AS zipCodes'''))[0]['zipCodes']\n",
        "\n",
        "us_nomi = pgeocode.Nominatim('US')\n",
        "ca_nomi = pgeocode.Nominatim('CA')\n",
        "\n",
        "def get_city_for_postal(code):\n",
        "    if isinstance(code, int):\n",
        "        result = us_nomi.query_postal_code(code)\n",
        "    elif isinstance(code, str):\n",
        "        result = ca_nomi.query_postal_code(code)\n",
        "    else:\n",
        "        return None\n",
        "    return result\n",
        "\n",
        "locations = [get_city_for_postal(code) for code in zip_codes]\n",
        "print(len(locations))"
      ],
      "metadata": {
        "colab": {
          "base_uri": "https://localhost:8080/"
        },
        "id": "1huMRdyHAMqs",
        "outputId": "bdde2ae0-fc8c-4bb5-f12a-1f17c4db5387"
      },
      "execution_count": 6,
      "outputs": [
        {
          "output_type": "stream",
          "name": "stderr",
          "text": [
            "WARNING:neo4j.notifications:Received notification from DBMS server: {severity: WARNING} {code: Neo.ClientNotification.Statement.AggregationSkippedNull} {category: UNRECOGNIZED} {title: The query contains an aggregation function that skips null values.} {description: null value eliminated in set function.} {position: None} for query: 'MATCH (n:DREAM_KG{nodeType: \"Service\"}) RETURN COLLECT(DISTINCT n.zipCode) AS zipCodes'\n"
          ]
        },
        {
          "output_type": "stream",
          "name": "stdout",
          "text": [
            "893\n"
          ]
        }
      ]
    },
    {
      "cell_type": "code",
      "source": [
        "LOC_NODE_TYPE = 'Location'\n",
        "with driver.session() as session:\n",
        "  for location in locations:\n",
        "    data = {\n",
        "        \"nodeName\": location['postal_code'],\n",
        "        \"elementType\": \"instance\",\n",
        "        \"nodeType\": \"Location\",\n",
        "        \"nodeCategory\": \"DREAM_KG\",\n",
        "        \"srcSheet\": \"pgeocode\",\n",
        "        \"county\": location['county_name'],\n",
        "        \"countryCode\": location['country_code'],\n",
        "        \"countyCode\": location['county_code'],\n",
        "        \"communityCode\": location['community_code'],\n",
        "        \"community\": location['community_name'],\n",
        "        \"zipCode\": location['postal_code'],\n",
        "        \"accuracy\": location['accuracy'],\n",
        "        \"state\": location['state_name'],\n",
        "        \"stateCode\": location['state_code'],\n",
        "        \"city\": location['place_name'],\n",
        "        \"latitude\": location['latitude'],\n",
        "        \"longitude\": location['longitude']\n",
        "    }\n",
        "    loc_node = list(session.run(node_upsert(),\n",
        "                              data=data))[0]['node']\n",
        "    # root_cache_dict[LOC_NODE_TYPE][location['postal_code']] = {\n",
        "    #     'identifier': loc_node.get('identifier'),\n",
        "    #     'abbreviation': loc_node.get('abbreviation')\n",
        "    # }"
      ],
      "metadata": {
        "id": "CD24BoPUEfz3"
      },
      "execution_count": 12,
      "outputs": []
    },
    {
      "cell_type": "markdown",
      "source": [
        "## Schedule NodeType\n",
        "\n",
        "- Availability\n",
        "  - Open\n",
        "  - Closed\n",
        "\n",
        "- Day of the Week\n",
        "\n",
        "- Intervals\n",
        "  - IntervalConstruct\n",
        "\n",
        "- SlotHierarchy\n",
        "  - SlotConstruct\n"
      ],
      "metadata": {
        "id": "xDF82omKAqRt"
      }
    },
    {
      "cell_type": "code",
      "source": [
        "# avail_set = set()\n",
        "# day = set()\n",
        "# intervals = set()\n",
        "# for _, row in schedule_df[['schedule', 'schedule_json']].iterrows():\n",
        "#   raw = row['schedule']\n",
        "#   schedule = row['schedule_json']\n",
        "#   if pd.isna(schedule):\n",
        "#     print('*' * 121)\n",
        "#   else:\n",
        "#     schedule = schedule.replace('“', '\"').replace(']], [[', '], [').replace('”', '\"').strip(',')\n",
        "#     data_list = json.loads(schedule)\n",
        "#     for data in data_list:\n",
        "#       avail_set.add(data[0].upper())\n",
        "#       if len(data) >= 3:\n",
        "#         day.add(data[1])\n",
        "#         for i in range(2, len(data)):\n",
        "#           intervals.add(data[i])\n",
        "# print(avail_set)\n",
        "# print(len(day))\n",
        "# print(intervals)"
      ],
      "metadata": {
        "id": "E4jqDe2OayJ8"
      },
      "execution_count": 33,
      "outputs": []
    },
    {
      "cell_type": "markdown",
      "source": [
        "## NLP NodeType"
      ],
      "metadata": {
        "id": "2W6S7ePWRliy"
      }
    },
    {
      "cell_type": "code",
      "source": [
        "with driver.session() as session:\n",
        "  session.run(node_upsert(subClass=True),\n",
        "                          data={\"nodeName\": \"NLPComputed\",\n",
        "                                \"isRootNodeType\": True,\n",
        "                                \"elementType\": \"class\",\n",
        "                                \"nodeTypeName\": \"NLPComputed\",\n",
        "                                \"nodeCategory\": \"DREAM_KG\",\n",
        "                                \"metadataType\": \"nodeType\",\n",
        "                                \"parentNodeType\": \"NLPComputed\",\n",
        "                                \"childNodeType\": \"NLPComputed\"})"
      ],
      "metadata": {
        "id": "pKrOMGvWQQo9"
      },
      "execution_count": 22,
      "outputs": []
    },
    {
      "cell_type": "code",
      "source": [
        "with open('nodeDesc_rel_key.json', 'r') as fp:\n",
        "  node_desc_rel_data = json.load(fp)"
      ],
      "metadata": {
        "id": "8P53mhshYVbf"
      },
      "execution_count": 14,
      "outputs": []
    },
    {
      "cell_type": "code",
      "source": [
        "node_desc_rel_data['metaData']"
      ],
      "metadata": {
        "colab": {
          "base_uri": "https://localhost:8080/"
        },
        "id": "GNVu0vXQPbq4",
        "outputId": "e9c54c27-e421-4318-dd97-df08419dda5c"
      },
      "execution_count": 18,
      "outputs": [
        {
          "output_type": "execute_result",
          "data": {
            "text/plain": [
              "{'name': 'NODEDESC_CONTAINS',\n",
              " 'constraints': ['score'],\n",
              " 'source': {'labels': ['DREAM_KG'],\n",
              "  'constraints': ['nodeType', 'identifier', 'abbreviation']},\n",
              " 'destination': {'labels': ['WordNGram'], 'constraints': ['title', 'version']}}"
            ]
          },
          "metadata": {},
          "execution_count": 18
        }
      ]
    },
    {
      "cell_type": "code",
      "source": [
        "with driver.session() as session:\n",
        "  for data in node_desc_rel_data['data']:\n",
        "    newdata = {\n",
        "        \"nodeName\": data['title'],\n",
        "        \"elementType\": \"instance\",\n",
        "        \"nodeType\": \"NLPComputed\",\n",
        "        \"nodeCategory\": \"DREAM_KG\",\n",
        "        \"srcSheet\": \"nlpModule\",\n",
        "        \"version\": data['version'],\n",
        "        \"score\": data['score']\n",
        "    }\n",
        "    try:\n",
        "      nlp_node = list(session.run(node_upsert(),\n",
        "                                data=newdata))[0]['node']\n",
        "\n",
        "      nlp_meta = {\n",
        "          'identifier': nlp_node.get('identifier'),\n",
        "          'abbreviation': nlp_node.get('abbreviation')\n",
        "      }\n",
        "      session.run(business_rel_upsert(parent=nlp_meta,\n",
        "                                      child={\n",
        "                                          'identifier': data['identifier'],\n",
        "                                          'abbreviation': data['abbreviation']\n",
        "                                      },\n",
        "                                      rel='nodeDescContains'), data={})\n",
        "    except:\n",
        "      continue"
      ],
      "metadata": {
        "id": "Y7ls5nf8PrZT"
      },
      "execution_count": 26,
      "outputs": []
    },
    {
      "cell_type": "code",
      "source": [
        "with open('notes_rel_key.json', 'r') as fp:\n",
        "  notes_rel_data = json.load(fp)\n",
        "\n",
        "with driver.session() as session:\n",
        "  for data in notes_rel_data['data']:\n",
        "    newdata = {\n",
        "        \"nodeName\": data['title'],\n",
        "        \"elementType\": \"instance\",\n",
        "        \"nodeType\": \"NLPComputed\",\n",
        "        \"nodeCategory\": \"DREAM_KG\",\n",
        "        \"srcSheet\": \"nlpModule\",\n",
        "        \"version\": data['version'],\n",
        "        \"score\": data['score']\n",
        "    }\n",
        "    try:\n",
        "      nlp_node = list(session.run(node_upsert(),\n",
        "                                data=newdata))[0]['node']\n",
        "\n",
        "      nlp_meta = {\n",
        "          'identifier': nlp_node.get('identifier'),\n",
        "          'abbreviation': nlp_node.get('abbreviation')\n",
        "      }\n",
        "      session.run(business_rel_upsert(parent=nlp_meta,\n",
        "                                      child={\n",
        "                                          'identifier': data['identifier'],\n",
        "                                          'abbreviation': data['abbreviation']\n",
        "                                      },\n",
        "                                      rel='notesTextContains'), data={})\n",
        "    except:\n",
        "      continue"
      ],
      "metadata": {
        "id": "5rYcmJ4mTVfk"
      },
      "execution_count": 27,
      "outputs": []
    },
    {
      "cell_type": "code",
      "source": [
        "with open('requirements_rel_key.json', 'r') as fp:\n",
        "  requirements_rel_data = json.load(fp)\n",
        "\n",
        "with driver.session() as session:\n",
        "  for data in requirements_rel_data['data']:\n",
        "    newdata = {\n",
        "        \"nodeName\": data['title'],\n",
        "        \"elementType\": \"instance\",\n",
        "        \"nodeType\": \"NLPComputed\",\n",
        "        \"nodeCategory\": \"DREAM_KG\",\n",
        "        \"srcSheet\": \"nlpModule\",\n",
        "        \"version\": data['version'],\n",
        "        \"score\": data['score']\n",
        "    }\n",
        "    try:\n",
        "      nlp_node = list(session.run(node_upsert(),\n",
        "                                data=newdata))[0]['node']\n",
        "\n",
        "      nlp_meta = {\n",
        "          'identifier': nlp_node.get('identifier'),\n",
        "          'abbreviation': nlp_node.get('abbreviation')\n",
        "      }\n",
        "      session.run(business_rel_upsert(parent=nlp_meta,\n",
        "                                      child={\n",
        "                                          'identifier': data['identifier'],\n",
        "                                          'abbreviation': data['abbreviation']\n",
        "                                      },\n",
        "                                      rel='requirementTextContains'), data={})\n",
        "    except:\n",
        "      continue"
      ],
      "metadata": {
        "id": "4po1JNKwRcD4"
      },
      "execution_count": 28,
      "outputs": []
    },
    {
      "cell_type": "code",
      "source": [
        "with open('recommendedFor_rel_key.json', 'r') as fp:\n",
        "  recommendedFor_rel_data = json.load(fp)\n",
        "\n",
        "with driver.session() as session:\n",
        "  for data in recommendedFor_rel_data['data']:\n",
        "    newdata = {\n",
        "        \"nodeName\": data['title'],\n",
        "        \"elementType\": \"instance\",\n",
        "        \"nodeType\": \"NLPComputed\",\n",
        "        \"nodeCategory\": \"DREAM_KG\",\n",
        "        \"srcSheet\": \"nlpModule\",\n",
        "        \"version\": data['version'],\n",
        "        \"score\": data['score']\n",
        "    }\n",
        "    try:\n",
        "      nlp_node = list(session.run(node_upsert(),\n",
        "                                data=newdata))[0]['node']\n",
        "\n",
        "      nlp_meta = {\n",
        "          'identifier': nlp_node.get('identifier'),\n",
        "          'abbreviation': nlp_node.get('abbreviation')\n",
        "      }\n",
        "      session.run(business_rel_upsert(parent=nlp_meta,\n",
        "                                      child={\n",
        "                                          'identifier': data['identifier'],\n",
        "                                          'abbreviation': data['abbreviation']\n",
        "                                      },\n",
        "                                      rel='recommendedForTextContains'), data={})\n",
        "    except:\n",
        "      continue"
      ],
      "metadata": {
        "id": "y2T-sIqWTvRo"
      },
      "execution_count": 29,
      "outputs": []
    },
    {
      "cell_type": "code",
      "source": [
        "with open('holidayException_rel_key.json', 'r') as fp:\n",
        "  holidayException_rel_data = json.load(fp)\n",
        "\n",
        "with driver.session() as session:\n",
        "  for data in holidayException_rel_data['data']:\n",
        "    newdata = {\n",
        "        \"nodeName\": data['title'],\n",
        "        \"elementType\": \"instance\",\n",
        "        \"nodeType\": \"NLPComputed\",\n",
        "        \"nodeCategory\": \"DREAM_KG\",\n",
        "        \"srcSheet\": \"nlpModule\",\n",
        "        \"version\": data['version'],\n",
        "        \"score\": data['score']\n",
        "    }\n",
        "    try:\n",
        "      nlp_node = list(session.run(node_upsert(),\n",
        "                                data=newdata))[0]['node']\n",
        "\n",
        "      nlp_meta = {\n",
        "          'identifier': nlp_node.get('identifier'),\n",
        "          'abbreviation': nlp_node.get('abbreviation')\n",
        "      }\n",
        "      session.run(business_rel_upsert(parent=nlp_meta,\n",
        "                                      child={\n",
        "                                          'identifier': data['identifier'],\n",
        "                                          'abbreviation': data['abbreviation']\n",
        "                                      },\n",
        "                                      rel='holidayExceptionTextContains'), data={})\n",
        "    except:\n",
        "      continue"
      ],
      "metadata": {
        "id": "lE179qIGT7vU"
      },
      "execution_count": 30,
      "outputs": []
    }
  ]
}